{
 "cells": [
  {
   "cell_type": "code",
   "execution_count": 1,
   "id": "cb021220-d5c9-478c-9c27-2e6149f33930",
   "metadata": {},
   "outputs": [],
   "source": [
    "#Import Libraries for data manipulation and visualization if necessary\n",
    "import pandas as pd\n",
    "import numpy as np\n",
    "import seaborn as sns\n",
    "import matplotlib.pyplot as plt"
   ]
  },
  {
   "cell_type": "code",
   "execution_count": 3,
   "id": "bee39a4e-ebbc-4e20-bda2-a67f2d2d860c",
   "metadata": {},
   "outputs": [],
   "source": [
    "#Load the dataset into a Pnadas dataFrame\n",
    "df = pd.read_csv(r\"C:\\Users\\wmypr\\insurance.csv\")"
   ]
  },
  {
   "cell_type": "code",
   "execution_count": 5,
   "id": "0fdc58c1-e085-4e8e-a6fc-68a93d9f8e04",
   "metadata": {},
   "outputs": [
    {
     "data": {
      "text/html": [
       "<div>\n",
       "<style scoped>\n",
       "    .dataframe tbody tr th:only-of-type {\n",
       "        vertical-align: middle;\n",
       "    }\n",
       "\n",
       "    .dataframe tbody tr th {\n",
       "        vertical-align: top;\n",
       "    }\n",
       "\n",
       "    .dataframe thead th {\n",
       "        text-align: right;\n",
       "    }\n",
       "</style>\n",
       "<table border=\"1\" class=\"dataframe\">\n",
       "  <thead>\n",
       "    <tr style=\"text-align: right;\">\n",
       "      <th></th>\n",
       "      <th>age</th>\n",
       "      <th>sex</th>\n",
       "      <th>bmi</th>\n",
       "      <th>children</th>\n",
       "      <th>smoker</th>\n",
       "      <th>region</th>\n",
       "      <th>charges</th>\n",
       "    </tr>\n",
       "  </thead>\n",
       "  <tbody>\n",
       "    <tr>\n",
       "      <th>0</th>\n",
       "      <td>19.0</td>\n",
       "      <td>female</td>\n",
       "      <td>27.900</td>\n",
       "      <td>0.0</td>\n",
       "      <td>yes</td>\n",
       "      <td>southwest</td>\n",
       "      <td>16884.924</td>\n",
       "    </tr>\n",
       "    <tr>\n",
       "      <th>1</th>\n",
       "      <td>18.0</td>\n",
       "      <td>male</td>\n",
       "      <td>33.770</td>\n",
       "      <td>1.0</td>\n",
       "      <td>no</td>\n",
       "      <td>Southeast</td>\n",
       "      <td>1725.5523</td>\n",
       "    </tr>\n",
       "    <tr>\n",
       "      <th>2</th>\n",
       "      <td>28.0</td>\n",
       "      <td>male</td>\n",
       "      <td>33.000</td>\n",
       "      <td>3.0</td>\n",
       "      <td>no</td>\n",
       "      <td>southeast</td>\n",
       "      <td>$4449.462</td>\n",
       "    </tr>\n",
       "    <tr>\n",
       "      <th>3</th>\n",
       "      <td>33.0</td>\n",
       "      <td>male</td>\n",
       "      <td>22.705</td>\n",
       "      <td>0.0</td>\n",
       "      <td>no</td>\n",
       "      <td>northwest</td>\n",
       "      <td>$21984.47061</td>\n",
       "    </tr>\n",
       "    <tr>\n",
       "      <th>4</th>\n",
       "      <td>32.0</td>\n",
       "      <td>male</td>\n",
       "      <td>28.880</td>\n",
       "      <td>0.0</td>\n",
       "      <td>no</td>\n",
       "      <td>northwest</td>\n",
       "      <td>$3866.8552</td>\n",
       "    </tr>\n",
       "  </tbody>\n",
       "</table>\n",
       "</div>"
      ],
      "text/plain": [
       "    age     sex     bmi  children smoker     region       charges\n",
       "0  19.0  female  27.900       0.0    yes  southwest     16884.924\n",
       "1  18.0    male  33.770       1.0     no  Southeast     1725.5523\n",
       "2  28.0    male  33.000       3.0     no  southeast     $4449.462\n",
       "3  33.0    male  22.705       0.0     no  northwest  $21984.47061\n",
       "4  32.0    male  28.880       0.0     no  northwest    $3866.8552"
      ]
     },
     "execution_count": 5,
     "metadata": {},
     "output_type": "execute_result"
    }
   ],
   "source": [
    "#Display the first 5 rows to get an overview of the data\n",
    "df.head()"
   ]
  },
  {
   "cell_type": "code",
   "execution_count": 7,
   "id": "fda071c4-1e8b-4971-aefd-ca36e8d56fcc",
   "metadata": {},
   "outputs": [
    {
     "data": {
      "text/plain": [
       "(1338, 7)"
      ]
     },
     "execution_count": 7,
     "metadata": {},
     "output_type": "execute_result"
    }
   ],
   "source": [
    "#Get the dimensions of the DataFrame (rows, columns)\n",
    "df.shape"
   ]
  },
  {
   "cell_type": "code",
   "execution_count": 9,
   "id": "a648aebe-6e2f-46c4-ba4e-fcf2451e99eb",
   "metadata": {},
   "outputs": [
    {
     "data": {
      "text/html": [
       "<div>\n",
       "<style scoped>\n",
       "    .dataframe tbody tr th:only-of-type {\n",
       "        vertical-align: middle;\n",
       "    }\n",
       "\n",
       "    .dataframe tbody tr th {\n",
       "        vertical-align: top;\n",
       "    }\n",
       "\n",
       "    .dataframe thead th {\n",
       "        text-align: right;\n",
       "    }\n",
       "</style>\n",
       "<table border=\"1\" class=\"dataframe\">\n",
       "  <thead>\n",
       "    <tr style=\"text-align: right;\">\n",
       "      <th></th>\n",
       "      <th>age</th>\n",
       "      <th>bmi</th>\n",
       "      <th>children</th>\n",
       "    </tr>\n",
       "  </thead>\n",
       "  <tbody>\n",
       "    <tr>\n",
       "      <th>count</th>\n",
       "      <td>1272.000000</td>\n",
       "      <td>1272.000000</td>\n",
       "      <td>1272.000000</td>\n",
       "    </tr>\n",
       "    <tr>\n",
       "      <th>mean</th>\n",
       "      <td>35.214623</td>\n",
       "      <td>30.560550</td>\n",
       "      <td>0.948899</td>\n",
       "    </tr>\n",
       "    <tr>\n",
       "      <th>std</th>\n",
       "      <td>22.478251</td>\n",
       "      <td>6.095573</td>\n",
       "      <td>1.303532</td>\n",
       "    </tr>\n",
       "    <tr>\n",
       "      <th>min</th>\n",
       "      <td>-64.000000</td>\n",
       "      <td>15.960000</td>\n",
       "      <td>-4.000000</td>\n",
       "    </tr>\n",
       "    <tr>\n",
       "      <th>25%</th>\n",
       "      <td>24.750000</td>\n",
       "      <td>26.180000</td>\n",
       "      <td>0.000000</td>\n",
       "    </tr>\n",
       "    <tr>\n",
       "      <th>50%</th>\n",
       "      <td>38.000000</td>\n",
       "      <td>30.210000</td>\n",
       "      <td>1.000000</td>\n",
       "    </tr>\n",
       "    <tr>\n",
       "      <th>75%</th>\n",
       "      <td>51.000000</td>\n",
       "      <td>34.485000</td>\n",
       "      <td>2.000000</td>\n",
       "    </tr>\n",
       "    <tr>\n",
       "      <th>max</th>\n",
       "      <td>64.000000</td>\n",
       "      <td>53.130000</td>\n",
       "      <td>5.000000</td>\n",
       "    </tr>\n",
       "  </tbody>\n",
       "</table>\n",
       "</div>"
      ],
      "text/plain": [
       "               age          bmi     children\n",
       "count  1272.000000  1272.000000  1272.000000\n",
       "mean     35.214623    30.560550     0.948899\n",
       "std      22.478251     6.095573     1.303532\n",
       "min     -64.000000    15.960000    -4.000000\n",
       "25%      24.750000    26.180000     0.000000\n",
       "50%      38.000000    30.210000     1.000000\n",
       "75%      51.000000    34.485000     2.000000\n",
       "max      64.000000    53.130000     5.000000"
      ]
     },
     "execution_count": 9,
     "metadata": {},
     "output_type": "execute_result"
    }
   ],
   "source": [
    "#Generate summary statistics for numerical columns in the DataFrame\n",
    "df.describe()"
   ]
  },
  {
   "cell_type": "code",
   "execution_count": 11,
   "id": "94040011-4f2b-4aeb-b231-bc63d2362d44",
   "metadata": {},
   "outputs": [
    {
     "name": "stdout",
     "output_type": "stream",
     "text": [
      "<class 'pandas.core.frame.DataFrame'>\n",
      "RangeIndex: 1338 entries, 0 to 1337\n",
      "Data columns (total 7 columns):\n",
      " #   Column    Non-Null Count  Dtype  \n",
      "---  ------    --------------  -----  \n",
      " 0   age       1272 non-null   float64\n",
      " 1   sex       1272 non-null   object \n",
      " 2   bmi       1272 non-null   float64\n",
      " 3   children  1272 non-null   float64\n",
      " 4   smoker    1272 non-null   object \n",
      " 5   region    1272 non-null   object \n",
      " 6   charges   1284 non-null   object \n",
      "dtypes: float64(3), object(4)\n",
      "memory usage: 73.3+ KB\n"
     ]
    }
   ],
   "source": [
    "#Show basic info about the DataFrame (column types, non-null counts, and memory usage)\n",
    "df.info()"
   ]
  },
  {
   "cell_type": "code",
   "execution_count": 13,
   "id": "287250cc-5a73-4752-a4ab-3605538626c7",
   "metadata": {},
   "outputs": [
    {
     "data": {
      "text/plain": [
       "age         66\n",
       "sex         66\n",
       "bmi         66\n",
       "children    66\n",
       "smoker      66\n",
       "region      66\n",
       "charges     54\n",
       "dtype: int64"
      ]
     },
     "execution_count": 13,
     "metadata": {},
     "output_type": "execute_result"
    }
   ],
   "source": [
    "#Count the number of missing values in each column\n",
    "df.isnull().sum()"
   ]
  },
  {
   "cell_type": "code",
   "execution_count": 15,
   "id": "8e2b72cd-bab1-4550-9df2-5a6e0d6973ab",
   "metadata": {},
   "outputs": [
    {
     "data": {
      "text/plain": [
       "1"
      ]
     },
     "execution_count": 15,
     "metadata": {},
     "output_type": "execute_result"
    }
   ],
   "source": [
    "#Count the remaining duplicate rows in the DataFrame\n",
    "df.duplicated().sum()"
   ]
  },
  {
   "cell_type": "code",
   "execution_count": 17,
   "id": "52c1be46-9099-4cf9-9e92-cdb968bae61f",
   "metadata": {},
   "outputs": [],
   "source": [
    "# Remove duplicate rows from the DataFrame\n",
    "df = df.drop_duplicates()"
   ]
  },
  {
   "cell_type": "code",
   "execution_count": 19,
   "id": "d36fe2ab-a705-4cb0-b1f4-2c4cd72ed8a0",
   "metadata": {},
   "outputs": [],
   "source": [
    "# Remove dollar signs from the 'charges' column\n",
    "df[\"charges\"] = df[\"charges\"].replace(r\"[\\$]\", \"\", regex=True)\n",
    "\n",
    "# Convert the 'charges' column to numeric values, as its dtype is still 'object'; invalid values become NaN\n",
    "df[\"charges\"] = pd.to_numeric(df[\"charges\"], errors=\"coerce\")"
   ]
  },
  {
   "cell_type": "code",
   "execution_count": 27,
   "id": "db6006b6-2307-4176-a090-097b025ff7c9",
   "metadata": {},
   "outputs": [
    {
     "name": "stdout",
     "output_type": "stream",
     "text": [
      "<class 'pandas.core.frame.DataFrame'>\n",
      "Index: 1337 entries, 0 to 1337\n",
      "Data columns (total 7 columns):\n",
      " #   Column    Non-Null Count  Dtype  \n",
      "---  ------    --------------  -----  \n",
      " 0   age       1272 non-null   float64\n",
      " 1   sex       1272 non-null   object \n",
      " 2   bmi       1272 non-null   float64\n",
      " 3   children  1272 non-null   float64\n",
      " 4   smoker    1272 non-null   object \n",
      " 5   region    1272 non-null   object \n",
      " 6   charges   1272 non-null   float64\n",
      "dtypes: float64(4), object(3)\n",
      "memory usage: 83.6+ KB\n"
     ]
    }
   ],
   "source": [
    "#Check the first few rows to ensure the 'charges' column has been cleaned '$' and converted\n",
    "df.info()"
   ]
  },
  {
   "cell_type": "code",
   "execution_count": 29,
   "id": "75ef019d-e6fd-4a13-a35f-b41214f790e8",
   "metadata": {},
   "outputs": [
    {
     "data": {
      "text/html": [
       "<div>\n",
       "<style scoped>\n",
       "    .dataframe tbody tr th:only-of-type {\n",
       "        vertical-align: middle;\n",
       "    }\n",
       "\n",
       "    .dataframe tbody tr th {\n",
       "        vertical-align: top;\n",
       "    }\n",
       "\n",
       "    .dataframe thead th {\n",
       "        text-align: right;\n",
       "    }\n",
       "</style>\n",
       "<table border=\"1\" class=\"dataframe\">\n",
       "  <thead>\n",
       "    <tr style=\"text-align: right;\">\n",
       "      <th></th>\n",
       "      <th>age</th>\n",
       "      <th>sex</th>\n",
       "      <th>bmi</th>\n",
       "      <th>children</th>\n",
       "      <th>smoker</th>\n",
       "      <th>region</th>\n",
       "      <th>charges</th>\n",
       "    </tr>\n",
       "  </thead>\n",
       "  <tbody>\n",
       "    <tr>\n",
       "      <th>0</th>\n",
       "      <td>19.0</td>\n",
       "      <td>female</td>\n",
       "      <td>27.900</td>\n",
       "      <td>0.0</td>\n",
       "      <td>yes</td>\n",
       "      <td>southwest</td>\n",
       "      <td>16884.92400</td>\n",
       "    </tr>\n",
       "    <tr>\n",
       "      <th>1</th>\n",
       "      <td>18.0</td>\n",
       "      <td>male</td>\n",
       "      <td>33.770</td>\n",
       "      <td>1.0</td>\n",
       "      <td>no</td>\n",
       "      <td>Southeast</td>\n",
       "      <td>1725.55230</td>\n",
       "    </tr>\n",
       "    <tr>\n",
       "      <th>2</th>\n",
       "      <td>28.0</td>\n",
       "      <td>male</td>\n",
       "      <td>33.000</td>\n",
       "      <td>3.0</td>\n",
       "      <td>no</td>\n",
       "      <td>southeast</td>\n",
       "      <td>4449.46200</td>\n",
       "    </tr>\n",
       "    <tr>\n",
       "      <th>3</th>\n",
       "      <td>33.0</td>\n",
       "      <td>male</td>\n",
       "      <td>22.705</td>\n",
       "      <td>0.0</td>\n",
       "      <td>no</td>\n",
       "      <td>northwest</td>\n",
       "      <td>21984.47061</td>\n",
       "    </tr>\n",
       "    <tr>\n",
       "      <th>4</th>\n",
       "      <td>32.0</td>\n",
       "      <td>male</td>\n",
       "      <td>28.880</td>\n",
       "      <td>0.0</td>\n",
       "      <td>no</td>\n",
       "      <td>northwest</td>\n",
       "      <td>3866.85520</td>\n",
       "    </tr>\n",
       "  </tbody>\n",
       "</table>\n",
       "</div>"
      ],
      "text/plain": [
       "    age     sex     bmi  children smoker     region      charges\n",
       "0  19.0  female  27.900       0.0    yes  southwest  16884.92400\n",
       "1  18.0    male  33.770       1.0     no  Southeast   1725.55230\n",
       "2  28.0    male  33.000       3.0     no  southeast   4449.46200\n",
       "3  33.0    male  22.705       0.0     no  northwest  21984.47061\n",
       "4  32.0    male  28.880       0.0     no  northwest   3866.85520"
      ]
     },
     "execution_count": 29,
     "metadata": {},
     "output_type": "execute_result"
    }
   ],
   "source": [
    "df.head()"
   ]
  },
  {
   "cell_type": "code",
   "execution_count": 31,
   "id": "08ab7607-abc0-4279-b365-4c3bdbca29ce",
   "metadata": {},
   "outputs": [],
   "source": [
    "# Convert any negative values in the 'age' column to positive, as age cannot be negative\n",
    "df[\"age\"] = df[\"age\"].abs()"
   ]
  },
  {
   "cell_type": "code",
   "execution_count": 33,
   "id": "39b161df-9d61-472c-b327-41e739ce1a14",
   "metadata": {},
   "outputs": [],
   "source": [
    "# Convert any negative values in the 'children' column to positive, as the number of children cannot be negative\n",
    "df[\"children\"] = df[\"children\"].abs()"
   ]
  },
  {
   "cell_type": "code",
   "execution_count": 35,
   "id": "0fb003d2-0ac3-46cc-bd4a-d7d6926ec346",
   "metadata": {},
   "outputs": [
    {
     "data": {
      "text/html": [
       "<div>\n",
       "<style scoped>\n",
       "    .dataframe tbody tr th:only-of-type {\n",
       "        vertical-align: middle;\n",
       "    }\n",
       "\n",
       "    .dataframe tbody tr th {\n",
       "        vertical-align: top;\n",
       "    }\n",
       "\n",
       "    .dataframe thead th {\n",
       "        text-align: right;\n",
       "    }\n",
       "</style>\n",
       "<table border=\"1\" class=\"dataframe\">\n",
       "  <thead>\n",
       "    <tr style=\"text-align: right;\">\n",
       "      <th></th>\n",
       "      <th>age</th>\n",
       "      <th>bmi</th>\n",
       "      <th>children</th>\n",
       "      <th>charges</th>\n",
       "    </tr>\n",
       "  </thead>\n",
       "  <tbody>\n",
       "    <tr>\n",
       "      <th>count</th>\n",
       "      <td>1272.000000</td>\n",
       "      <td>1272.000000</td>\n",
       "      <td>1272.000000</td>\n",
       "      <td>1272.000000</td>\n",
       "    </tr>\n",
       "    <tr>\n",
       "      <th>mean</th>\n",
       "      <td>39.335692</td>\n",
       "      <td>30.560550</td>\n",
       "      <td>1.079403</td>\n",
       "      <td>13286.594477</td>\n",
       "    </tr>\n",
       "    <tr>\n",
       "      <th>std</th>\n",
       "      <td>14.064247</td>\n",
       "      <td>6.095573</td>\n",
       "      <td>1.197618</td>\n",
       "      <td>12142.505233</td>\n",
       "    </tr>\n",
       "    <tr>\n",
       "      <th>min</th>\n",
       "      <td>18.000000</td>\n",
       "      <td>15.960000</td>\n",
       "      <td>0.000000</td>\n",
       "      <td>1121.873900</td>\n",
       "    </tr>\n",
       "    <tr>\n",
       "      <th>25%</th>\n",
       "      <td>27.000000</td>\n",
       "      <td>26.180000</td>\n",
       "      <td>0.000000</td>\n",
       "      <td>4733.582163</td>\n",
       "    </tr>\n",
       "    <tr>\n",
       "      <th>50%</th>\n",
       "      <td>39.000000</td>\n",
       "      <td>30.210000</td>\n",
       "      <td>1.000000</td>\n",
       "      <td>9382.033000</td>\n",
       "    </tr>\n",
       "    <tr>\n",
       "      <th>75%</th>\n",
       "      <td>51.000000</td>\n",
       "      <td>34.485000</td>\n",
       "      <td>2.000000</td>\n",
       "      <td>16579.959053</td>\n",
       "    </tr>\n",
       "    <tr>\n",
       "      <th>max</th>\n",
       "      <td>64.000000</td>\n",
       "      <td>53.130000</td>\n",
       "      <td>5.000000</td>\n",
       "      <td>63770.428010</td>\n",
       "    </tr>\n",
       "  </tbody>\n",
       "</table>\n",
       "</div>"
      ],
      "text/plain": [
       "               age          bmi     children       charges\n",
       "count  1272.000000  1272.000000  1272.000000   1272.000000\n",
       "mean     39.335692    30.560550     1.079403  13286.594477\n",
       "std      14.064247     6.095573     1.197618  12142.505233\n",
       "min      18.000000    15.960000     0.000000   1121.873900\n",
       "25%      27.000000    26.180000     0.000000   4733.582163\n",
       "50%      39.000000    30.210000     1.000000   9382.033000\n",
       "75%      51.000000    34.485000     2.000000  16579.959053\n",
       "max      64.000000    53.130000     5.000000  63770.428010"
      ]
     },
     "execution_count": 35,
     "metadata": {},
     "output_type": "execute_result"
    }
   ],
   "source": [
    "# Generate summary statistics to confirm no negative values in 'age' and 'children' columns\n",
    "df.describe()"
   ]
  },
  {
   "cell_type": "code",
   "execution_count": 37,
   "id": "986173d8-c3ed-4eaa-80f2-e58ee57c8c52",
   "metadata": {},
   "outputs": [],
   "source": [
    "# Replace missing values with mean or median, depending on the column distribution\n",
    "df[\"age\"] = df[\"age\"].fillna(df[\"age\"].mean())\n",
    "df[\"bmi\"] = df[\"bmi\"].fillna(df[\"bmi\"].median())\n",
    "df[\"children\"] = df[\"children\"].fillna(df[\"children\"].median())\n",
    "df[\"charges\"] = df[\"charges\"].fillna(df[\"charges\"].median())"
   ]
  },
  {
   "cell_type": "code",
   "execution_count": 39,
   "id": "3c60e229-5485-4695-818b-07549159d561",
   "metadata": {},
   "outputs": [],
   "source": [
    "# Replace missing values in the 'sex' column with the most common value (mode)\n",
    "df[\"sex\"] = df[\"sex\"].fillna(df[\"sex\"].mode()[0])\n",
    "\n",
    "# Replace missing values in the 'smoker' column with the most common value (mode)\n",
    "df[\"smoker\"] = df[\"smoker\"].fillna(df[\"smoker\"].mode()[0])\n",
    "\n",
    "# Replace missing values in the 'region' column with the most common value (mode)\n",
    "df[\"region\"] = df[\"region\"].fillna(df[\"region\"].mode()[0])"
   ]
  },
  {
   "cell_type": "code",
   "execution_count": 43,
   "id": "bc2ead6b-49b9-4b88-aa9b-41d58406cd06",
   "metadata": {},
   "outputs": [
    {
     "data": {
      "text/plain": [
       "age         0\n",
       "sex         0\n",
       "bmi         0\n",
       "children    0\n",
       "smoker      0\n",
       "region      0\n",
       "charges     0\n",
       "dtype: int64"
      ]
     },
     "execution_count": 43,
     "metadata": {},
     "output_type": "execute_result"
    }
   ],
   "source": [
    "# Check if there are any remaining null values in the dataset after imputation\n",
    "df.isnull().sum()"
   ]
  },
  {
   "cell_type": "code",
   "execution_count": 45,
   "id": "7cf77ab7-c3d9-4c99-a462-f65f464c310a",
   "metadata": {},
   "outputs": [
    {
     "data": {
      "text/plain": [
       "array(['female', 'male', 'woman', 'F', 'man', 'M'], dtype=object)"
      ]
     },
     "execution_count": 45,
     "metadata": {},
     "output_type": "execute_result"
    }
   ],
   "source": [
    "# Display the unique values in the 'sex' column to check the distinct categories (e.g., 'male', 'female')\n",
    "df[\"sex\"].unique()"
   ]
  },
  {
   "cell_type": "code",
   "execution_count": 47,
   "id": "f8a3cd33-d756-4f55-8ebf-151c88cd1263",
   "metadata": {},
   "outputs": [
    {
     "data": {
      "text/plain": [
       "sex\n",
       "male      582\n",
       "female    503\n",
       "man        64\n",
       "M          64\n",
       "woman      62\n",
       "F          62\n",
       "Name: count, dtype: int64"
      ]
     },
     "execution_count": 47,
     "metadata": {},
     "output_type": "execute_result"
    }
   ],
   "source": [
    "# Display the count of each unique value in the 'sex' column to see the distribution of categories (e.g., 'male', 'female')\n",
    "df[\"sex\"].value_counts()"
   ]
  },
  {
   "cell_type": "code",
   "execution_count": 49,
   "id": "1f9bd00b-f045-438b-a6cf-a67a3e0668e7",
   "metadata": {},
   "outputs": [],
   "source": [
    "# Standardize the values in the 'sex' column by replacing variations like 'M' and 'man' with 'male', \n",
    "# and 'F' and 'woman' with 'female' to ensure consistent representation of gender categories\n",
    "df[\"sex\"] = df[\"sex\"].replace({\"M\" : \"male\", \"man\" : \"male\", \"F\" : \"female\", \"woman\" : \"female\"})"
   ]
  },
  {
   "cell_type": "code",
   "execution_count": 51,
   "id": "f4157be9-e476-4c0d-b3d3-59b4efe38a32",
   "metadata": {},
   "outputs": [
    {
     "data": {
      "text/plain": [
       "sex\n",
       "male      710\n",
       "female    627\n",
       "Name: count, dtype: int64"
      ]
     },
     "execution_count": 51,
     "metadata": {},
     "output_type": "execute_result"
    }
   ],
   "source": [
    "# Display the updated count of each unique value in the 'sex' column after standardizing the categories (e.g., 'male', 'female')\n",
    "df[\"sex\"].value_counts()"
   ]
  },
  {
   "cell_type": "code",
   "execution_count": 53,
   "id": "2e02f327-da2e-43ca-b0d0-68c8441d5803",
   "metadata": {},
   "outputs": [
    {
     "data": {
      "text/plain": [
       "array(['southwest', 'Southeast', 'southeast', 'northwest', 'Northwest',\n",
       "       'Northeast', 'northeast', 'Southwest'], dtype=object)"
      ]
     },
     "execution_count": 53,
     "metadata": {},
     "output_type": "execute_result"
    }
   ],
   "source": [
    "# Display the unique values in the 'region' column to check the distinct categories\n",
    "df[\"region\"].unique()"
   ]
  },
  {
   "cell_type": "code",
   "execution_count": 55,
   "id": "a4d69813-663b-4bcc-80c8-17b9563286fa",
   "metadata": {},
   "outputs": [],
   "source": [
    "# Convert all region names to lowercase for consistent representation\n",
    "df[\"region\"] = df[\"region\"].str.lower()"
   ]
  },
  {
   "cell_type": "code",
   "execution_count": 57,
   "id": "a165ed7b-8164-41c3-90a6-f36611474f63",
   "metadata": {},
   "outputs": [
    {
     "data": {
      "text/plain": [
       "array(['southwest', 'southeast', 'northwest', 'northeast'], dtype=object)"
      ]
     },
     "execution_count": 57,
     "metadata": {},
     "output_type": "execute_result"
    }
   ],
   "source": [
    "# Display the unique values in the 'region' column to check the distinct regions after standardization (e.g., 'southeast', 'southwest')\n",
    "df[\"region\"].unique()"
   ]
  },
  {
   "cell_type": "code",
   "execution_count": 61,
   "id": "39da38fa-d527-4dce-804b-6d3ad2f48e53",
   "metadata": {},
   "outputs": [
    {
     "data": {
      "text/plain": [
       "array(['yes', 'no'], dtype=object)"
      ]
     },
     "execution_count": 61,
     "metadata": {},
     "output_type": "execute_result"
    }
   ],
   "source": [
    "# Display the unique values in the 'smoker' column to identify any unexpected values beyond 'yes' and 'no'\n",
    "df[\"smoker\"].unique()"
   ]
  },
  {
   "cell_type": "code",
   "execution_count": 63,
   "id": "f8e9ae81-046b-4374-9bb2-15793a9e5e0b",
   "metadata": {},
   "outputs": [],
   "source": [
    "# Round the values in the 'age' and 'children' columns to the nearest integer and convert them to integer type\n",
    "# This ensures that both columns have integer values, as age and number of children should be whole numbers\n",
    "df[[\"age\", \"children\"]] = df[[\"age\", \"children\"]].round(0).astype(int)"
   ]
  },
  {
   "cell_type": "code",
   "execution_count": 65,
   "id": "9a90f11a-e890-4721-9b36-2e52bf04404b",
   "metadata": {},
   "outputs": [],
   "source": [
    "# Round the values in the 'bmi' and 'charges' columns to 2 decimal places for consistency and better readability\n",
    "df[[\"bmi\", \"charges\"]] = df[[\"bmi\", \"charges\"]].round(2)"
   ]
  },
  {
   "cell_type": "code",
   "execution_count": 67,
   "id": "9b3c528d-9606-4a51-b4b3-78fa17a37388",
   "metadata": {},
   "outputs": [
    {
     "name": "stderr",
     "output_type": "stream",
     "text": [
      "C:\\Users\\wmypr\\AppData\\Local\\Temp\\ipykernel_13120\\4004835926.py:2: FutureWarning: Downcasting behavior in `replace` is deprecated and will be removed in a future version. To retain the old behavior, explicitly call `result.infer_objects(copy=False)`. To opt-in to the future behavior, set `pd.set_option('future.no_silent_downcasting', True)`\n",
      "  df[\"smoker\"] = df[\"smoker\"].replace({\"yes\" : True, \"no\" : False}).astype(bool)\n"
     ]
    }
   ],
   "source": [
    "# Replace the 'yes' and 'no' values in the 'smoker' column with Boolean values True and False for easier analysis\n",
    "df[\"smoker\"] = df[\"smoker\"].replace({\"yes\" : True, \"no\" : False}).astype(bool)"
   ]
  },
  {
   "cell_type": "code",
   "execution_count": 69,
   "id": "3c2e9a89-ce59-4346-86e0-14de8d1addf7",
   "metadata": {},
   "outputs": [
    {
     "data": {
      "text/html": [
       "<div>\n",
       "<style scoped>\n",
       "    .dataframe tbody tr th:only-of-type {\n",
       "        vertical-align: middle;\n",
       "    }\n",
       "\n",
       "    .dataframe tbody tr th {\n",
       "        vertical-align: top;\n",
       "    }\n",
       "\n",
       "    .dataframe thead th {\n",
       "        text-align: right;\n",
       "    }\n",
       "</style>\n",
       "<table border=\"1\" class=\"dataframe\">\n",
       "  <thead>\n",
       "    <tr style=\"text-align: right;\">\n",
       "      <th></th>\n",
       "      <th>age</th>\n",
       "      <th>sex</th>\n",
       "      <th>bmi</th>\n",
       "      <th>children</th>\n",
       "      <th>smoker</th>\n",
       "      <th>region</th>\n",
       "      <th>charges</th>\n",
       "    </tr>\n",
       "  </thead>\n",
       "  <tbody>\n",
       "    <tr>\n",
       "      <th>0</th>\n",
       "      <td>19</td>\n",
       "      <td>female</td>\n",
       "      <td>27.90</td>\n",
       "      <td>0</td>\n",
       "      <td>True</td>\n",
       "      <td>southwest</td>\n",
       "      <td>16884.92</td>\n",
       "    </tr>\n",
       "    <tr>\n",
       "      <th>1</th>\n",
       "      <td>18</td>\n",
       "      <td>male</td>\n",
       "      <td>33.77</td>\n",
       "      <td>1</td>\n",
       "      <td>False</td>\n",
       "      <td>southeast</td>\n",
       "      <td>1725.55</td>\n",
       "    </tr>\n",
       "    <tr>\n",
       "      <th>2</th>\n",
       "      <td>28</td>\n",
       "      <td>male</td>\n",
       "      <td>33.00</td>\n",
       "      <td>3</td>\n",
       "      <td>False</td>\n",
       "      <td>southeast</td>\n",
       "      <td>4449.46</td>\n",
       "    </tr>\n",
       "    <tr>\n",
       "      <th>3</th>\n",
       "      <td>33</td>\n",
       "      <td>male</td>\n",
       "      <td>22.70</td>\n",
       "      <td>0</td>\n",
       "      <td>False</td>\n",
       "      <td>northwest</td>\n",
       "      <td>21984.47</td>\n",
       "    </tr>\n",
       "    <tr>\n",
       "      <th>4</th>\n",
       "      <td>32</td>\n",
       "      <td>male</td>\n",
       "      <td>28.88</td>\n",
       "      <td>0</td>\n",
       "      <td>False</td>\n",
       "      <td>northwest</td>\n",
       "      <td>3866.86</td>\n",
       "    </tr>\n",
       "  </tbody>\n",
       "</table>\n",
       "</div>"
      ],
      "text/plain": [
       "   age     sex    bmi  children  smoker     region   charges\n",
       "0   19  female  27.90         0    True  southwest  16884.92\n",
       "1   18    male  33.77         1   False  southeast   1725.55\n",
       "2   28    male  33.00         3   False  southeast   4449.46\n",
       "3   33    male  22.70         0   False  northwest  21984.47\n",
       "4   32    male  28.88         0   False  northwest   3866.86"
      ]
     },
     "execution_count": 69,
     "metadata": {},
     "output_type": "execute_result"
    }
   ],
   "source": [
    "#Display the first 5 rows of the dataset to check the updated values and overall structure of the DataFrame\n",
    "df.head()"
   ]
  },
  {
   "cell_type": "code",
   "execution_count": 71,
   "id": "409cecdd-d361-4ac5-a2f2-2d5b486fa80b",
   "metadata": {},
   "outputs": [
    {
     "name": "stdout",
     "output_type": "stream",
     "text": [
      "<class 'pandas.core.frame.DataFrame'>\n",
      "Index: 1337 entries, 0 to 1337\n",
      "Data columns (total 7 columns):\n",
      " #   Column    Non-Null Count  Dtype  \n",
      "---  ------    --------------  -----  \n",
      " 0   age       1337 non-null   int32  \n",
      " 1   sex       1337 non-null   object \n",
      " 2   bmi       1337 non-null   float64\n",
      " 3   children  1337 non-null   int32  \n",
      " 4   smoker    1337 non-null   bool   \n",
      " 5   region    1337 non-null   object \n",
      " 6   charges   1337 non-null   float64\n",
      "dtypes: bool(1), float64(2), int32(2), object(2)\n",
      "memory usage: 64.0+ KB\n"
     ]
    }
   ],
   "source": [
    "# Display a summary of the DataFrame after data cleaning and preprocessing \n",
    "# to verify data types, confirm there are no missing values, and check the final structure\n",
    "df.info()"
   ]
  },
  {
   "cell_type": "code",
   "execution_count": 73,
   "id": "80036671-ef85-493f-952c-591f46d4f899",
   "metadata": {},
   "outputs": [
    {
     "data": {
      "text/html": [
       "<div>\n",
       "<style scoped>\n",
       "    .dataframe tbody tr th:only-of-type {\n",
       "        vertical-align: middle;\n",
       "    }\n",
       "\n",
       "    .dataframe tbody tr th {\n",
       "        vertical-align: top;\n",
       "    }\n",
       "\n",
       "    .dataframe thead th {\n",
       "        text-align: right;\n",
       "    }\n",
       "</style>\n",
       "<table border=\"1\" class=\"dataframe\">\n",
       "  <thead>\n",
       "    <tr style=\"text-align: right;\">\n",
       "      <th></th>\n",
       "      <th>age</th>\n",
       "      <th>bmi</th>\n",
       "      <th>children</th>\n",
       "      <th>charges</th>\n",
       "    </tr>\n",
       "  </thead>\n",
       "  <tbody>\n",
       "    <tr>\n",
       "      <th>count</th>\n",
       "      <td>1337.000000</td>\n",
       "      <td>1337.000000</td>\n",
       "      <td>1337.000000</td>\n",
       "      <td>1337.000000</td>\n",
       "    </tr>\n",
       "    <tr>\n",
       "      <th>mean</th>\n",
       "      <td>39.319372</td>\n",
       "      <td>30.543695</td>\n",
       "      <td>1.075542</td>\n",
       "      <td>13096.768975</td>\n",
       "    </tr>\n",
       "    <tr>\n",
       "      <th>std</th>\n",
       "      <td>13.718039</td>\n",
       "      <td>5.945665</td>\n",
       "      <td>1.168246</td>\n",
       "      <td>11873.194137</td>\n",
       "    </tr>\n",
       "    <tr>\n",
       "      <th>min</th>\n",
       "      <td>18.000000</td>\n",
       "      <td>15.960000</td>\n",
       "      <td>0.000000</td>\n",
       "      <td>1121.870000</td>\n",
       "    </tr>\n",
       "    <tr>\n",
       "      <th>25%</th>\n",
       "      <td>27.000000</td>\n",
       "      <td>26.410000</td>\n",
       "      <td>0.000000</td>\n",
       "      <td>4922.920000</td>\n",
       "    </tr>\n",
       "    <tr>\n",
       "      <th>50%</th>\n",
       "      <td>39.000000</td>\n",
       "      <td>30.210000</td>\n",
       "      <td>1.000000</td>\n",
       "      <td>9382.030000</td>\n",
       "    </tr>\n",
       "    <tr>\n",
       "      <th>75%</th>\n",
       "      <td>51.000000</td>\n",
       "      <td>34.210000</td>\n",
       "      <td>2.000000</td>\n",
       "      <td>15230.320000</td>\n",
       "    </tr>\n",
       "    <tr>\n",
       "      <th>max</th>\n",
       "      <td>64.000000</td>\n",
       "      <td>53.130000</td>\n",
       "      <td>5.000000</td>\n",
       "      <td>63770.430000</td>\n",
       "    </tr>\n",
       "  </tbody>\n",
       "</table>\n",
       "</div>"
      ],
      "text/plain": [
       "               age          bmi     children       charges\n",
       "count  1337.000000  1337.000000  1337.000000   1337.000000\n",
       "mean     39.319372    30.543695     1.075542  13096.768975\n",
       "std      13.718039     5.945665     1.168246  11873.194137\n",
       "min      18.000000    15.960000     0.000000   1121.870000\n",
       "25%      27.000000    26.410000     0.000000   4922.920000\n",
       "50%      39.000000    30.210000     1.000000   9382.030000\n",
       "75%      51.000000    34.210000     2.000000  15230.320000\n",
       "max      64.000000    53.130000     5.000000  63770.430000"
      ]
     },
     "execution_count": 73,
     "metadata": {},
     "output_type": "execute_result"
    }
   ],
   "source": [
    "# Generate descriptive statistics for the numeric columns after preprocessing \n",
    "# to confirm that values are within expected ranges and outliers or anomalies have been handled\n",
    "df.describe()"
   ]
  },
  {
   "cell_type": "code",
   "execution_count": 75,
   "id": "0d3e6f73-8f06-4657-acf8-ab9a5f5118bf",
   "metadata": {},
   "outputs": [],
   "source": [
    "# Save the cleaned DataFrame to a CSV file\n",
    "df.to_csv(\"insurance_data_cleaned.csv\", index=False)"
   ]
  },
  {
   "cell_type": "code",
   "execution_count": 77,
   "id": "6555eb9f-93fd-41c9-9ade-20251701d0a0",
   "metadata": {},
   "outputs": [],
   "source": [
    "import sys"
   ]
  },
  {
   "cell_type": "code",
   "execution_count": 79,
   "id": "59cce877-362a-4705-8842-bab84ba90e4b",
   "metadata": {},
   "outputs": [
    {
     "name": "stdout",
     "output_type": "stream",
     "text": [
      "3.12.7 | packaged by Anaconda, Inc. | (main, Oct  4 2024, 13:17:27) [MSC v.1929 64 bit (AMD64)]\n"
     ]
    }
   ],
   "source": [
    "print(sys.version)"
   ]
  },
  {
   "cell_type": "code",
   "execution_count": null,
   "id": "e3150b6f-e025-4182-845e-a34c0ddedf29",
   "metadata": {},
   "outputs": [],
   "source": []
  }
 ],
 "metadata": {
  "kernelspec": {
   "display_name": "Python [conda env:base] *",
   "language": "python",
   "name": "conda-base-py"
  },
  "language_info": {
   "codemirror_mode": {
    "name": "ipython",
    "version": 3
   },
   "file_extension": ".py",
   "mimetype": "text/x-python",
   "name": "python",
   "nbconvert_exporter": "python",
   "pygments_lexer": "ipython3",
   "version": "3.12.7"
  }
 },
 "nbformat": 4,
 "nbformat_minor": 5
}
